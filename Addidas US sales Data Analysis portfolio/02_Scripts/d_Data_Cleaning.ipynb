{
 "cells": [
  {
   "cell_type": "code",
   "execution_count": 2,
   "id": "b9b4292a-0495-4917-801e-aa366550dab3",
   "metadata": {},
   "outputs": [],
   "source": [
    "#importing required libraries\n",
    "import pandas as pd\n",
    "import numpy as np"
   ]
  },
  {
   "cell_type": "code",
   "execution_count": 3,
   "id": "4e58dc3e-8515-4b0d-a6a3-9048e8b70d5a",
   "metadata": {},
   "outputs": [],
   "source": [
    "# loading the data frame using directory\n",
    "df=pd.read_csv(\"../01_Data/01_Adidas US Sales uncleaned data set.csv\")"
   ]
  },
  {
   "cell_type": "markdown",
   "id": "df80dc62-304a-4d9b-b41c-23b78542adef",
   "metadata": {},
   "source": [
    "# Data Cleaning"
   ]
  },
  {
   "cell_type": "code",
   "execution_count": 4,
   "id": "c6df0cc3-30d2-455f-9169-cfbcf8c66751",
   "metadata": {},
   "outputs": [],
   "source": [
    "# Removing columns that are not required for analysis\n",
    "df.drop([\"sales_id\", \"retailer_id\"], axis=1, inplace=True)"
   ]
  },
  {
   "cell_type": "code",
   "execution_count": 5,
   "id": "2ae30bd4-e992-4a38-ad25-62ffa03be08b",
   "metadata": {},
   "outputs": [],
   "source": [
    "# Renaming columns for better understanding and readability\n",
    "df.rename({\"total_sales\": \"revenue\", \"operating_profit\": \"profit\"}, axis=1, inplace=True)"
   ]
  },
  {
   "cell_type": "code",
   "execution_count": 6,
   "id": "35030077-123e-4ba7-98f6-21d071855f73",
   "metadata": {},
   "outputs": [],
   "source": [
    "# Adding a new column 'profit_margin' to represent profit as a percentage of revenue\n",
    "df[\"profit_margin\"] = round((df[\"profit\"] / df[\"revenue\"]) * 100, 2)"
   ]
  },
  {
   "cell_type": "code",
   "execution_count": 7,
   "id": "96223af8-562b-4b13-ad19-b4315054d7b1",
   "metadata": {},
   "outputs": [],
   "source": [
    "# Changing the data type of categorical columns to 'string' for consistency and memory optimization\n",
    "for column in [\"retailer\", \"region\", \"state\", \"city\", \"product\", \"sales_method\"]:\n",
    "    df[column] = df[column].astype(\"string\")"
   ]
  },
  {
   "cell_type": "code",
   "execution_count": 8,
   "id": "973fe564-e45e-4ffc-be73-9a1703dc1ae1",
   "metadata": {},
   "outputs": [],
   "source": [
    "# Converting the 'invoice_date' column to datetime format to ensure proper date handling\n",
    "df[\"invoice_date\"] = pd.to_datetime(df[\"invoice_date\"])"
   ]
  },
  {
   "cell_type": "code",
   "execution_count": 9,
   "id": "22af3cb4-e821-4397-8796-4fce5b0b9574",
   "metadata": {},
   "outputs": [
    {
     "name": "stdout",
     "output_type": "stream",
     "text": [
      "<class 'pandas.core.frame.DataFrame'>\n",
      "RangeIndex: 9637 entries, 0 to 9636\n",
      "Data columns (total 12 columns):\n",
      " #   Column          Non-Null Count  Dtype         \n",
      "---  ------          --------------  -----         \n",
      " 0   retailer        9637 non-null   string        \n",
      " 1   invoice_date    9637 non-null   datetime64[ns]\n",
      " 2   region          9637 non-null   string        \n",
      " 3   state           9637 non-null   string        \n",
      " 4   city            9637 non-null   string        \n",
      " 5   product         9637 non-null   string        \n",
      " 6   price_per_unit  9637 non-null   int64         \n",
      " 7   units_sold      9637 non-null   int64         \n",
      " 8   revenue         9637 non-null   int64         \n",
      " 9   profit          9637 non-null   int64         \n",
      " 10  sales_method    9637 non-null   string        \n",
      " 11  profit_margin   9637 non-null   float64       \n",
      "dtypes: datetime64[ns](1), float64(1), int64(4), string(6)\n",
      "memory usage: 903.6 KB\n",
      "None\n"
     ]
    }
   ],
   "source": [
    "# Verifying the data types and structure of the DataFrame after cleaning\n",
    "print(df.info())"
   ]
  },
  {
   "cell_type": "code",
   "execution_count": 10,
   "id": "1bc738ed-9775-49f7-96a6-74b84430661b",
   "metadata": {},
   "outputs": [],
   "source": [
    "# Saving the data set after cleaning \n",
    "df.to_csv(\"02_Adidas us sales cleaned data set.csv\",index=False)"
   ]
  }
 ],
 "metadata": {
  "kernelspec": {
   "display_name": "Python 3 (ipykernel)",
   "language": "python",
   "name": "python3"
  },
  "language_info": {
   "codemirror_mode": {
    "name": "ipython",
    "version": 3
   },
   "file_extension": ".py",
   "mimetype": "text/x-python",
   "name": "python",
   "nbconvert_exporter": "python",
   "pygments_lexer": "ipython3",
   "version": "3.13.1"
  }
 },
 "nbformat": 4,
 "nbformat_minor": 5
}
