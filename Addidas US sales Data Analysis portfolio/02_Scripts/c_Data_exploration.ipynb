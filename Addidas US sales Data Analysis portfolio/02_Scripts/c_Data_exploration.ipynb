{
 "cells": [
  {
   "cell_type": "code",
   "execution_count": 2,
   "id": "dd0f1eb8-87dd-4650-b4dd-a5c8220ce52b",
   "metadata": {},
   "outputs": [],
   "source": [
    "#importing the reequired libraries\n",
    "import pandas as pd\n",
    "import numpy as np"
   ]
  },
  {
   "cell_type": "code",
   "execution_count": 4,
   "id": "ae726d29-6e6e-45a6-baec-0b5da7b32a29",
   "metadata": {},
   "outputs": [],
   "source": [
    "# loading the data frame using directory\n",
    "df=pd.read_csv(\"../01_Data/01_Adidas US Sales uncleaned data set.csv\")"
   ]
  },
  {
   "cell_type": "markdown",
   "id": "35403aeb-e969-4c58-95b7-f84b13fccf67",
   "metadata": {},
   "source": [
    "# Data Exploration"
   ]
  },
  {
   "cell_type": "code",
   "execution_count": 5,
   "id": "a3f0ba4c-0ae9-4bc7-a949-561b2b29641d",
   "metadata": {},
   "outputs": [
    {
     "name": "stdout",
     "output_type": "stream",
     "text": [
      "   sales_id       retailer  retailer_id invoice_date     region  \\\n",
      "0         1    Foot Locker      1185732   2021-11-06  Southeast   \n",
      "1         2    Foot Locker      1185732   2020-03-14  Northeast   \n",
      "2         3      West Gear      1128299   2021-01-19       West   \n",
      "3         4        Walmart      1128299   2021-06-17  Southeast   \n",
      "4         5  Sports Direct      1197831   2021-09-14      South   \n",
      "5         6      West Gear      1197831   2021-07-06       West   \n",
      "6         7      West Gear      1128299   2021-01-12       West   \n",
      "7         8    Foot Locker      1185732   2020-01-21  Northeast   \n",
      "8         9        Walmart      1197831   2020-08-17      South   \n",
      "9        10      West Gear      1128299   2021-07-16      South   \n",
      "\n",
      "            state           city                  product  price_per_unit  \\\n",
      "0  South Carolina     Charleston    Men's Street Footwear              50   \n",
      "1        New York       New York            Men's Apparel              46   \n",
      "2      California  San Francisco  Men's Athletic Footwear              47   \n",
      "3         Florida        Orlando          Women's Apparel             103   \n",
      "4         Alabama     Birmingham  Women's Street Footwear              36   \n",
      "5           Idaho          Boise  Women's Street Footwear              34   \n",
      "6      California  San Francisco    Men's Street Footwear              56   \n",
      "7        New York       New York  Women's Street Footwear              36   \n",
      "8           Texas        Houston          Women's Apparel              37   \n",
      "9       Louisiana    New Orleans          Women's Apparel             103   \n",
      "\n",
      "   units_sold  total_sales  operating_profit sales_method  \n",
      "0         278        13900               792       Online  \n",
      "1         278        12788               435       Outlet  \n",
      "2         278        13066               287       Outlet  \n",
      "3         218        22454              1257       Online  \n",
      "4         278        10008               530       Outlet  \n",
      "5         278         9452               397       Outlet  \n",
      "6         277        15512               698       Online  \n",
      "7         276         9936               467       Online  \n",
      "8         276        10212               643       Online  \n",
      "9         163        16789               806       Online  \n"
     ]
    }
   ],
   "source": [
    "print(df.head(10))#it show the first 10 line of DataFrame"
   ]
  },
  {
   "cell_type": "code",
   "execution_count": 6,
   "id": "cdd81914-8c93-4f3a-b6fa-fc30c79ba324",
   "metadata": {},
   "outputs": [
    {
     "name": "stdout",
     "output_type": "stream",
     "text": [
      "Index(['sales_id', 'retailer', 'retailer_id', 'invoice_date', 'region',\n",
      "       'state', 'city', 'product', 'price_per_unit', 'units_sold',\n",
      "       'total_sales', 'operating_profit', 'sales_method'],\n",
      "      dtype='object')\n"
     ]
    }
   ],
   "source": [
    "print(df.columns) #it provides the column names "
   ]
  },
  {
   "cell_type": "code",
   "execution_count": 7,
   "id": "99d873b4-fefb-4be2-9a01-150101939d7a",
   "metadata": {},
   "outputs": [
    {
     "name": "stdout",
     "output_type": "stream",
     "text": [
      "<class 'pandas.core.frame.DataFrame'>\n",
      "RangeIndex: 9637 entries, 0 to 9636\n",
      "Data columns (total 13 columns):\n",
      " #   Column            Non-Null Count  Dtype \n",
      "---  ------            --------------  ----- \n",
      " 0   sales_id          9637 non-null   int64 \n",
      " 1   retailer          9637 non-null   object\n",
      " 2   retailer_id       9637 non-null   int64 \n",
      " 3   invoice_date      9637 non-null   object\n",
      " 4   region            9637 non-null   object\n",
      " 5   state             9637 non-null   object\n",
      " 6   city              9637 non-null   object\n",
      " 7   product           9637 non-null   object\n",
      " 8   price_per_unit    9637 non-null   int64 \n",
      " 9   units_sold        9637 non-null   int64 \n",
      " 10  total_sales       9637 non-null   int64 \n",
      " 11  operating_profit  9637 non-null   int64 \n",
      " 12  sales_method      9637 non-null   object\n",
      "dtypes: int64(6), object(7)\n",
      "memory usage: 978.9+ KB\n",
      "None\n"
     ]
    }
   ],
   "source": [
    "print(df.info()) #it provide the not null column and data type of columns"
   ]
  },
  {
   "cell_type": "code",
   "execution_count": 8,
   "id": "81d20ebf-1d6b-4a04-839c-96f6e43e2fb1",
   "metadata": {},
   "outputs": [
    {
     "name": "stdout",
     "output_type": "stream",
     "text": [
      "          sales_id   retailer_id  price_per_unit   units_sold   total_sales  \\\n",
      "count  9637.000000  9.637000e+03     9637.000000  9637.000000   9637.000000   \n",
      "mean   4819.000000  1.173846e+06       45.218948   256.886064  12451.621355   \n",
      "std    2782.106606  2.636304e+04       14.704520   214.097600  12708.094249   \n",
      "min       1.000000  1.128299e+06        7.000000     6.000000    160.000000   \n",
      "25%    2410.000000  1.185732e+06       35.000000   106.000000   4068.000000   \n",
      "50%    4819.000000  1.185732e+06       45.000000   176.000000   7805.000000   \n",
      "75%    7228.000000  1.185732e+06       55.000000   350.000000  15834.000000   \n",
      "max    9637.000000  1.197831e+06      110.000000  1275.000000  82500.000000   \n",
      "\n",
      "       operating_profit  \n",
      "count       9637.000000  \n",
      "mean        3440.706029  \n",
      "std         5418.210200  \n",
      "min            8.000000  \n",
      "25%          192.000000  \n",
      "50%          437.000000  \n",
      "75%         5200.000000  \n",
      "max        39000.000000  \n"
     ]
    }
   ],
   "source": [
    "print(df.describe()) #it provides the statistical information of df"
   ]
  },
  {
   "cell_type": "code",
   "execution_count": 9,
   "id": "b55893a4-e2fe-4e0d-b39b-daf41a7171bd",
   "metadata": {},
   "outputs": [
    {
     "name": "stdout",
     "output_type": "stream",
     "text": [
      "sales_id            0\n",
      "retailer            0\n",
      "retailer_id         0\n",
      "invoice_date        0\n",
      "region              0\n",
      "state               0\n",
      "city                0\n",
      "product             0\n",
      "price_per_unit      0\n",
      "units_sold          0\n",
      "total_sales         0\n",
      "operating_profit    0\n",
      "sales_method        0\n",
      "dtype: int64\n"
     ]
    }
   ],
   "source": [
    "print(df.isnull().sum()) #it will check is there any null values in the dataframe"
   ]
  },
  {
   "cell_type": "code",
   "execution_count": 10,
   "id": "f10bb223-2e51-48a2-83dc-091dab21c8a0",
   "metadata": {},
   "outputs": [
    {
     "name": "stdout",
     "output_type": "stream",
     "text": [
      "Empty DataFrame\n",
      "Columns: [sales_id, retailer, retailer_id, invoice_date, region, state, city, product, price_per_unit, units_sold, total_sales, operating_profit, sales_method]\n",
      "Index: []\n"
     ]
    }
   ],
   "source": [
    "print(df[df.duplicated()])#checking is there any duplicate rows"
   ]
  },
  {
   "cell_type": "code",
   "execution_count": 11,
   "id": "fb8e7067-0d75-45ba-a506-81ec5eff2529",
   "metadata": {},
   "outputs": [
    {
     "name": "stdout",
     "output_type": "stream",
     "text": [
      "Index([], dtype='object')\n"
     ]
    }
   ],
   "source": [
    "d=df.T.duplicated()#transposing the df to make esy to find the duplicate columns in next\n",
    "print(df.columns[d])#checking is there any duplicate columns present in the data set"
   ]
  },
  {
   "cell_type": "code",
   "execution_count": 12,
   "id": "9fc68699-9e6e-47e8-91e9-1ead580f8eda",
   "metadata": {},
   "outputs": [
    {
     "name": "stdout",
     "output_type": "stream",
     "text": [
      "['Southeast' 'Northeast' 'West' 'South' 'Midwest']\n",
      "[\"Men's Street Footwear\" \"Men's Apparel\" \"Men's Athletic Footwear\"\n",
      " \"Women's Apparel\" \"Women's Street Footwear\" \"Women's Athletic Footwear\"]\n",
      "['Online' 'Outlet' 'In-store']\n"
     ]
    }
   ],
   "source": [
    "#checking the unique values of columns region,product and sales_method\n",
    "for i in [\"region\",\"product\",\"sales_method\"]:\n",
    "    print(df[i].unique())"
   ]
  }
 ],
 "metadata": {
  "kernelspec": {
   "display_name": "Python 3 (ipykernel)",
   "language": "python",
   "name": "python3"
  },
  "language_info": {
   "codemirror_mode": {
    "name": "ipython",
    "version": 3
   },
   "file_extension": ".py",
   "mimetype": "text/x-python",
   "name": "python",
   "nbconvert_exporter": "python",
   "pygments_lexer": "ipython3",
   "version": "3.13.1"
  }
 },
 "nbformat": 4,
 "nbformat_minor": 5
}
