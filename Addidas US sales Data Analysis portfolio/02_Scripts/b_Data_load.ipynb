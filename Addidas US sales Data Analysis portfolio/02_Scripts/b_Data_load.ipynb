{
 "cells": [
  {
   "cell_type": "code",
   "execution_count": 2,
   "id": "8a32a24e-c83a-4693-a387-b60459b0a3d7",
   "metadata": {},
   "outputs": [],
   "source": [
    "# importing the pandas library for converting the data set to data frame\n",
    "import pandas as pd"
   ]
  },
  {
   "cell_type": "code",
   "execution_count": 3,
   "id": "e380c523-5772-4c38-b052-df0353f73839",
   "metadata": {},
   "outputs": [],
   "source": [
    "#we have the uncleaned data set in the 01_Data subfolder directory so using that directory to load the data set by data frame\n",
    "df=pd.read_csv(\"../01_Data/01_Adidas US Sales uncleaned data set.csv\")"
   ]
  },
  {
   "cell_type": "code",
   "execution_count": 4,
   "id": "90d4841a-2b79-49f6-b137-526e2e810bbf",
   "metadata": {},
   "outputs": [
    {
     "name": "stdout",
     "output_type": "stream",
     "text": [
      "      sales_id       retailer  retailer_id invoice_date     region  \\\n",
      "0            1    Foot Locker      1185732   2021-11-06  Southeast   \n",
      "1            2    Foot Locker      1185732   2020-03-14  Northeast   \n",
      "2            3      West Gear      1128299   2021-01-19       West   \n",
      "3            4        Walmart      1128299   2021-06-17  Southeast   \n",
      "4            5  Sports Direct      1197831   2021-09-14      South   \n",
      "...        ...            ...          ...          ...        ...   \n",
      "9632      9633         Amazon      1185732   2021-11-18  Northeast   \n",
      "9633      9634         Amazon      1185732   2021-10-22       West   \n",
      "9634      9635         Amazon      1185732   2021-10-22       West   \n",
      "9635      9636      West Gear      1185732   2021-04-10    Midwest   \n",
      "9636      9637  Sports Direct      1185732   2021-10-05  Northeast   \n",
      "\n",
      "               state           city                    product  \\\n",
      "0     South Carolina     Charleston      Men's Street Footwear   \n",
      "1           New York       New York              Men's Apparel   \n",
      "2         California  San Francisco    Men's Athletic Footwear   \n",
      "3            Florida        Orlando            Women's Apparel   \n",
      "4            Alabama     Birmingham    Women's Street Footwear   \n",
      "...              ...            ...                        ...   \n",
      "9632           Maine       Portland              Men's Apparel   \n",
      "9633          Alaska      Anchorage  Women's Athletic Footwear   \n",
      "9634          Alaska      Anchorage              Men's Apparel   \n",
      "9635         Indiana   Indianapolis              Men's Apparel   \n",
      "9636     Connecticut       Hartford              Men's Apparel   \n",
      "\n",
      "      price_per_unit  units_sold  total_sales  operating_profit sales_method  \n",
      "0                 50         278        13900               792       Online  \n",
      "1                 46         278        12788               435       Outlet  \n",
      "2                 47         278        13066               287       Outlet  \n",
      "3                103         218        22454              1257       Online  \n",
      "4                 36         278        10008               530       Outlet  \n",
      "...              ...         ...          ...               ...          ...  \n",
      "9632              65         150         9750              2438       Outlet  \n",
      "9633              65         150         9750              2438       Outlet  \n",
      "9634              75         150        11250              2813       Outlet  \n",
      "9635              65         150         9750              2925     In-store  \n",
      "9636              65         150         9750              2925     In-store  \n",
      "\n",
      "[9637 rows x 13 columns]\n"
     ]
    }
   ],
   "source": [
    "print(df) # showing the data frame is loaded or not "
   ]
  },
  {
   "cell_type": "code",
   "execution_count": null,
   "id": "fe445ad3-89d9-4523-b45d-3c1a17b55d0a",
   "metadata": {},
   "outputs": [],
   "source": []
  }
 ],
 "metadata": {
  "kernelspec": {
   "display_name": "Python 3 (ipykernel)",
   "language": "python",
   "name": "python3"
  },
  "language_info": {
   "codemirror_mode": {
    "name": "ipython",
    "version": 3
   },
   "file_extension": ".py",
   "mimetype": "text/x-python",
   "name": "python",
   "nbconvert_exporter": "python",
   "pygments_lexer": "ipython3",
   "version": "3.13.1"
  }
 },
 "nbformat": 4,
 "nbformat_minor": 5
}
