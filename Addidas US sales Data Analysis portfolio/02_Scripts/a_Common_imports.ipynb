{
 "cells": [
  {
   "cell_type": "code",
   "execution_count": 1,
   "id": "3bbc5e09-3b7b-43c2-9f0d-23c7f5d515b3",
   "metadata": {},
   "outputs": [],
   "source": [
    "#importing all required libraries \n",
    "import numpy as np #Need for numerical computation(if required)\n",
    "import pandas as pd#Need for data manipulation,analysis and handling tabular data\n",
    "import matplotlib.pyplot as plt #need for visualization\n",
    "import seaborn as sns # need for visualization as well"
   ]
  }
 ],
 "metadata": {
  "kernelspec": {
   "display_name": "Python 3 (ipykernel)",
   "language": "python",
   "name": "python3"
  },
  "language_info": {
   "codemirror_mode": {
    "name": "ipython",
    "version": 3
   },
   "file_extension": ".py",
   "mimetype": "text/x-python",
   "name": "python",
   "nbconvert_exporter": "python",
   "pygments_lexer": "ipython3",
   "version": "3.13.1"
  }
 },
 "nbformat": 4,
 "nbformat_minor": 5
}
